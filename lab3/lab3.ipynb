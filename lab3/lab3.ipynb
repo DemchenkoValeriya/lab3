{
 "cells": [
  {
   "cell_type": "markdown",
   "id": "f0280771-d1be-43e5-99c0-7225b9398541",
   "metadata": {},
   "source": [
    "Functions 1"
   ]
  },
  {
   "cell_type": "code",
   "execution_count": 18,
   "id": "ec9def00-0fba-4411-9011-1f03c0ebc506",
   "metadata": {},
   "outputs": [
    {
     "name": "stdin",
     "output_type": "stream",
     "text": [
      " 50\n"
     ]
    },
    {
     "name": "stdout",
     "output_type": "stream",
     "text": [
      "1.7636980990343363\n"
     ]
    }
   ],
   "source": [
    "def grams_to_ounces(grams):\n",
    "    ounces = grams / 28.3495231\n",
    "    return ounces\n",
    "\n",
    "#test\n",
    "x = float(input())\n",
    "new_x = grams_to_ounces(x)\n",
    "print(new_x)"
   ]
  },
  {
   "cell_type": "code",
   "execution_count": 34,
   "id": "da955985-7fd4-4318-af31-b9e34fb0999c",
   "metadata": {},
   "outputs": [
    {
     "name": "stdin",
     "output_type": "stream",
     "text": [
      "Input temp. in Fahrenheit:  100\n"
     ]
    },
    {
     "name": "stdout",
     "output_type": "stream",
     "text": [
      "100.0 is 37.77777777777778 in Celcius\n"
     ]
    }
   ],
   "source": [
    "def F_to_C(temp):\n",
    "    new_temp = (5 / 9) * (temp - 32)\n",
    "    return new_temp\n",
    "\n",
    "#test\n",
    "x = float(input(\"Input temp. in Fahrenheit: \"))\n",
    "conv_x = F_to_C(x)\n",
    "print(f\"{x} is {conv_x} in Celcius\")"
   ]
  },
  {
   "cell_type": "code",
   "execution_count": 19,
   "id": "43f0bfb9-b8bd-4f50-8aad-6c2b6d143d89",
   "metadata": {},
   "outputs": [
    {
     "name": "stdin",
     "output_type": "stream",
     "text": [
      " 35\n",
      " 94\n"
     ]
    },
    {
     "name": "stdout",
     "output_type": "stream",
     "text": [
      "There are 12.0 rabbits and 23.0 chickens\n"
     ]
    }
   ],
   "source": [
    "def solve(numheads, numlegs):\n",
    "    chickenlegs = numlegs - 2*numheads\n",
    "    rabbitheads = chickenlegs/2\n",
    "    chickenheads = numheads - rabbitheads\n",
    "    print(f\"There are {rabbitheads} rabbits and {chickenheads} chickens\")\n",
    "\n",
    "x = int(input())\n",
    "y = int(input())\n",
    "solve(x, y)"
   ]
  },
  {
   "cell_type": "code",
   "execution_count": 79,
   "id": "e8b92d71-ea77-4579-8104-682d326dbdf9",
   "metadata": {},
   "outputs": [
    {
     "name": "stdin",
     "output_type": "stream",
     "text": [
      "List numbers to check:  1 2 3 4 5 6 7 8 9 10 11 12 13 14 15 16 17 18 19 20 21 22 23 24 25\n"
     ]
    },
    {
     "name": "stdout",
     "output_type": "stream",
     "text": [
      "2\n",
      "3\n",
      "5\n",
      "7\n",
      "11\n",
      "13\n",
      "17\n",
      "19\n",
      "23\n"
     ]
    }
   ],
   "source": [
    "def prime(nums):\n",
    "    for x in nums:\n",
    "        pr = True\n",
    "        if x<2:\n",
    "            continue\n",
    "        for y in range(2, round(x**0.5)+1):\n",
    "            if x%y == 0:\n",
    "                pr = False\n",
    "                break;\n",
    "        if pr == True:\n",
    "            print(x)\n",
    "            \n",
    "numbers = input(\"List numbers to check: \").split()\n",
    "for i in range(len(numbers)):\n",
    "    numbers[i] = int(numbers[i])\n",
    "    \n",
    "prime(numbers)"
   ]
  },
  {
   "cell_type": "code",
   "execution_count": 97,
   "id": "65370558-809f-451b-a1a0-2e51f70c7417",
   "metadata": {
    "scrolled": true
   },
   "outputs": [
    {
     "name": "stdin",
     "output_type": "stream",
     "text": [
      " happy\n"
     ]
    },
    {
     "name": "stdout",
     "output_type": "stream",
     "text": [
      "happy\n",
      "hapyp\n",
      "happy\n",
      "hapyp\n",
      "haypp\n",
      "haypp\n",
      "hpapy\n",
      "hpayp\n",
      "hppay\n",
      "hppya\n",
      "hpyap\n",
      "hpypa\n",
      "hpapy\n",
      "hpayp\n",
      "hppay\n",
      "hppya\n",
      "hpyap\n",
      "hpypa\n",
      "hyapp\n",
      "hyapp\n",
      "hypap\n",
      "hyppa\n",
      "hypap\n",
      "hyppa\n",
      "ahppy\n",
      "ahpyp\n",
      "ahppy\n",
      "ahpyp\n",
      "ahypp\n",
      "ahypp\n",
      "aphpy\n",
      "aphyp\n",
      "apphy\n",
      "appyh\n",
      "apyhp\n",
      "apyph\n",
      "aphpy\n",
      "aphyp\n",
      "apphy\n",
      "appyh\n",
      "apyhp\n",
      "apyph\n",
      "ayhpp\n",
      "ayhpp\n",
      "ayphp\n",
      "aypph\n",
      "ayphp\n",
      "aypph\n",
      "phapy\n",
      "phayp\n",
      "phpay\n",
      "phpya\n",
      "phyap\n",
      "phypa\n",
      "pahpy\n",
      "pahyp\n",
      "paphy\n",
      "papyh\n",
      "payhp\n",
      "payph\n",
      "pphay\n",
      "pphya\n",
      "ppahy\n",
      "ppayh\n",
      "ppyha\n",
      "ppyah\n",
      "pyhap\n",
      "pyhpa\n",
      "pyahp\n",
      "pyaph\n",
      "pypha\n",
      "pypah\n",
      "phapy\n",
      "phayp\n",
      "phpay\n",
      "phpya\n",
      "phyap\n",
      "phypa\n",
      "pahpy\n",
      "pahyp\n",
      "paphy\n",
      "papyh\n",
      "payhp\n",
      "payph\n",
      "pphay\n",
      "pphya\n",
      "ppahy\n",
      "ppayh\n",
      "ppyha\n",
      "ppyah\n",
      "pyhap\n",
      "pyhpa\n",
      "pyahp\n",
      "pyaph\n",
      "pypha\n",
      "pypah\n",
      "yhapp\n",
      "yhapp\n",
      "yhpap\n",
      "yhppa\n",
      "yhpap\n",
      "yhppa\n",
      "yahpp\n",
      "yahpp\n",
      "yaphp\n",
      "yapph\n",
      "yaphp\n",
      "yapph\n",
      "yphap\n",
      "yphpa\n",
      "ypahp\n",
      "ypaph\n",
      "yppha\n",
      "yppah\n",
      "yphap\n",
      "yphpa\n",
      "ypahp\n",
      "ypaph\n",
      "yppha\n",
      "yppah\n"
     ]
    }
   ],
   "source": [
    "from itertools import permutations\n",
    "\n",
    "def permutation(word):\n",
    "    perm = permutations(word)\n",
    "    for p in perm:\n",
    "        print(''.join(p))\n",
    "\n",
    "x = input()\n",
    "permutation(x)"
   ]
  },
  {
   "cell_type": "code",
   "execution_count": 113,
   "id": "a1a7d91f-78d7-4da8-81c0-a807e8dc2abf",
   "metadata": {},
   "outputs": [
    {
     "name": "stdin",
     "output_type": "stream",
     "text": [
      " we are not ready man\n"
     ]
    },
    {
     "name": "stdout",
     "output_type": "stream",
     "text": [
      "man ready not are we\n"
     ]
    }
   ],
   "source": [
    "def revStr(str):\n",
    "    rev = ' '.join(str.split()[::-1])\n",
    "    print(rev)\n",
    "\n",
    "x = input()\n",
    "revStr(x)"
   ]
  },
  {
   "cell_type": "code",
   "execution_count": 47,
   "id": "7261a397-78fc-4b5d-80b0-071a397415f6",
   "metadata": {},
   "outputs": [
    {
     "name": "stdin",
     "output_type": "stream",
     "text": [
      " 4 5 3 6 3 3 8 9\n"
     ]
    },
    {
     "name": "stdout",
     "output_type": "stream",
     "text": [
      "True\n"
     ]
    }
   ],
   "source": [
    "def threes(word):\n",
    "    for x in range(len(word)-1):\n",
    "        if word[x]==word[x+1]==3:\n",
    "            return True\n",
    "    return False\n",
    "\n",
    "x = list(map(int, input().split()))\n",
    "ans = threes(x)\n",
    "print(ans)"
   ]
  },
  {
   "cell_type": "code",
   "execution_count": 144,
   "id": "5787c7ee-3f7e-4818-b810-9b60dfa4eec4",
   "metadata": {},
   "outputs": [
    {
     "name": "stdin",
     "output_type": "stream",
     "text": [
      " 9 7 8 3 4 9 0 0 7\n"
     ]
    },
    {
     "name": "stdout",
     "output_type": "stream",
     "text": [
      "True\n"
     ]
    }
   ],
   "source": [
    "def zerozeroseven(word):\n",
    "    for x in range(len(word)-2):\n",
    "        if word[x]==word[x+1]==0 and word[x+2]==7:\n",
    "            return True\n",
    "    return False\n",
    "\n",
    "x = list(map(int, input().split()))\n",
    "ans = zerozeroseven(x)\n",
    "print(ans)"
   ]
  },
  {
   "cell_type": "code",
   "execution_count": 152,
   "id": "ebfff0e3-fcb5-46b7-94ad-8fe36b87927d",
   "metadata": {},
   "outputs": [
    {
     "name": "stdin",
     "output_type": "stream",
     "text": [
      " 16\n"
     ]
    },
    {
     "name": "stdout",
     "output_type": "stream",
     "text": [
      "17157.284678805056\n"
     ]
    }
   ],
   "source": [
    "import math\n",
    "\n",
    "def Volume(radius):\n",
    "    return 4/3 * math.pi * radius**3\n",
    "\n",
    "x = float(input())\n",
    "Vol = Volume(x)\n",
    "print(Vol)"
   ]
  },
  {
   "cell_type": "code",
   "execution_count": 5,
   "id": "0a760fbf-feb0-4fd3-8a8e-d6c69e63e468",
   "metadata": {},
   "outputs": [
    {
     "name": "stdin",
     "output_type": "stream",
     "text": [
      " 6 8 8 9 2 2 3 4 4 5 5 6 6 7 7 3 3 \n"
     ]
    },
    {
     "name": "stdout",
     "output_type": "stream",
     "text": [
      "6 8 9 2 3 4 5 7\n"
     ]
    }
   ],
   "source": [
    "def unique(lst):\n",
    "    mp = {}\n",
    "    for i in lst:\n",
    "        mp[i] = 1\n",
    "    ans = list(mp)\n",
    "    print(*ans)\n",
    "\n",
    "    \n",
    "x = list(map(int, input().split()))\n",
    "unique(x)"
   ]
  },
  {
   "cell_type": "code",
   "execution_count": 45,
   "id": "1a9104c0-ac1e-491c-965f-59c0f5ab2249",
   "metadata": {},
   "outputs": [
    {
     "name": "stdin",
     "output_type": "stream",
     "text": [
      " malayalam\n"
     ]
    },
    {
     "name": "stdout",
     "output_type": "stream",
     "text": [
      "Yes\n"
     ]
    }
   ],
   "source": [
    "def isPalindrome(word):\n",
    "    return word == word[::-1]\n",
    "\n",
    "x = input()\n",
    "ans = isPalindrome(x)\n",
    "\n",
    "if ans:\n",
    "    print(\"Yes\")\n",
    "else:\n",
    "    print(\"No\")"
   ]
  },
  {
   "cell_type": "code",
   "execution_count": 23,
   "id": "2c42db70-d778-40ab-8e99-1f5dc2e721e9",
   "metadata": {},
   "outputs": [
    {
     "name": "stdin",
     "output_type": "stream",
     "text": [
      " 4 9 7\n"
     ]
    },
    {
     "name": "stdout",
     "output_type": "stream",
     "text": [
      "****\n",
      "*********\n",
      "*******\n"
     ]
    }
   ],
   "source": [
    "def histogram(lst):\n",
    "    for x in lst:\n",
    "        print(\"*\"*x)\n",
    "\n",
    "x = list(map(int, input().split()))\n",
    "histogram(x)"
   ]
  },
  {
   "cell_type": "code",
   "execution_count": 33,
   "id": "daf8775f-c09a-4cb3-a056-810c5ec5a0c3",
   "metadata": {},
   "outputs": [
    {
     "name": "stdin",
     "output_type": "stream",
     "text": [
      "Hello! What is your name? Lera\n"
     ]
    },
    {
     "name": "stdout",
     "output_type": "stream",
     "text": [
      "Well, Lera, I am thinking of a number between 1 and 20\n"
     ]
    },
    {
     "name": "stdin",
     "output_type": "stream",
     "text": [
      "Take a guess. 5\n"
     ]
    },
    {
     "name": "stdout",
     "output_type": "stream",
     "text": [
      "Your guess is too low.\n"
     ]
    },
    {
     "name": "stdin",
     "output_type": "stream",
     "text": [
      "Take a guess. 10\n"
     ]
    },
    {
     "name": "stdout",
     "output_type": "stream",
     "text": [
      "Your guess is too low.\n"
     ]
    },
    {
     "name": "stdin",
     "output_type": "stream",
     "text": [
      "Take a guess. 15\n"
     ]
    },
    {
     "name": "stdout",
     "output_type": "stream",
     "text": [
      "Your guess is too low.\n"
     ]
    },
    {
     "name": "stdin",
     "output_type": "stream",
     "text": [
      "Take a guess. 18\n"
     ]
    },
    {
     "name": "stdout",
     "output_type": "stream",
     "text": [
      "Your guess is too low.\n"
     ]
    },
    {
     "name": "stdin",
     "output_type": "stream",
     "text": [
      "Take a guess. 19\n"
     ]
    },
    {
     "name": "stdout",
     "output_type": "stream",
     "text": [
      "Good job, Lera! You guessed my number in 5 guesses!\n"
     ]
    }
   ],
   "source": [
    "import random\n",
    "def game(name):\n",
    "    print(f\"Well, {name}, I am thinking of a number between 1 and 20\")\n",
    "    answer = random.randint(0, 20)\n",
    "    amountOfGuesses = 0\n",
    "    while True:\n",
    "        guess = int(input(\"Take a guess.\"))\n",
    "        amountOfGuesses += 1\n",
    "        if guess == answer:\n",
    "            print(f\"Good job, {name}! You guessed my number in {amountOfGuesses} guesses!\")\n",
    "            break\n",
    "        elif guess > answer:\n",
    "            print(\"Your guess is too high.\")\n",
    "        elif guess < answer:\n",
    "            print(\"Your guess is too low.\")\n",
    "\n",
    "x = input(\"Hello! What is your name?\")\n",
    "game(x)"
   ]
  },
  {
   "cell_type": "markdown",
   "id": "cdcb809b-12d6-430a-bb60-082149cd2c5a",
   "metadata": {},
   "source": [
    "Functions 2"
   ]
  },
  {
   "cell_type": "code",
   "execution_count": 88,
   "id": "78d3a281-6172-408a-b32e-eff809bfc893",
   "metadata": {},
   "outputs": [
    {
     "name": "stdin",
     "output_type": "stream",
     "text": [
      " We Two\n"
     ]
    },
    {
     "name": "stdout",
     "output_type": "stream",
     "text": [
      "True\n"
     ]
    }
   ],
   "source": [
    "movies = [\n",
    "{\n",
    "\"name\": \"Usual Suspects\", \n",
    "\"imdb\": 7.0,\n",
    "\"category\": \"Thriller\"\n",
    "},\n",
    "{\n",
    "\"name\": \"Hitman\",\n",
    "\"imdb\": 6.3,\n",
    "\"category\": \"Action\"\n",
    "},\n",
    "{\n",
    "\"name\": \"Dark Knight\",\n",
    "\"imdb\": 9.0,\n",
    "\"category\": \"Adventure\"\n",
    "},\n",
    "{\n",
    "\"name\": \"The Help\",\n",
    "\"imdb\": 8.0,\n",
    "\"category\": \"Drama\"\n",
    "},\n",
    "{\n",
    "\"name\": \"The Choice\",\n",
    "\"imdb\": 6.2,\n",
    "\"category\": \"Romance\"\n",
    "},\n",
    "{\n",
    "\"name\": \"Colonia\",\n",
    "\"imdb\": 7.4,\n",
    "\"category\": \"Romance\"\n",
    "},\n",
    "{\n",
    "\"name\": \"Love\",\n",
    "\"imdb\": 6.0,\n",
    "\"category\": \"Romance\"\n",
    "},\n",
    "{\n",
    "\"name\": \"Bride Wars\",\n",
    "\"imdb\": 5.4,\n",
    "\"category\": \"Romance\"\n",
    "},\n",
    "{\n",
    "\"name\": \"AlphaJet\",\n",
    "\"imdb\": 3.2,\n",
    "\"category\": \"War\"\n",
    "},\n",
    "{\n",
    "\"name\": \"Ringing Crime\",\n",
    "\"imdb\": 4.0,\n",
    "\"category\": \"Crime\"\n",
    "},\n",
    "{\n",
    "\"name\": \"Joking muck\",\n",
    "\"imdb\": 7.2,\n",
    "\"category\": \"Comedy\"\n",
    "},\n",
    "{\n",
    "\"name\": \"What is the name\",\n",
    "\"imdb\": 9.2,\n",
    "\"category\": \"Suspense\"\n",
    "},\n",
    "{\n",
    "\"name\": \"Detective\",\n",
    "\"imdb\": 7.0,\n",
    "\"category\": \"Suspense\"\n",
    "},\n",
    "{\n",
    "\"name\": \"Exam\",\n",
    "\"imdb\": 4.2,\n",
    "\"category\": \"Thriller\"\n",
    "},\n",
    "{\n",
    "\"name\": \"We Two\",\n",
    "\"imdb\": 7.2,\n",
    "\"category\": \"Romance\"\n",
    "}\n",
    "]\n",
    "\n",
    "def is_high_imdb(movieName):\n",
    "    for x in movies:\n",
    "        if x[\"name\"] == movieName and x[\"imdb\"]>5.5:\n",
    "            return True\n",
    "    return False\n",
    "\n",
    "movie = input()\n",
    "ans = is_high_imdb(movie)\n",
    "print(ans)"
   ]
  },
  {
   "cell_type": "code",
   "execution_count": 94,
   "id": "bb258047-cb6b-462a-97ec-0069d5581b1e",
   "metadata": {},
   "outputs": [
    {
     "name": "stdout",
     "output_type": "stream",
     "text": [
      "['Usual Suspects', 'Hitman', 'Dark Knight', 'The Help', 'The Choice', 'Colonia', 'Love', 'Joking muck', 'What is the name', 'Detective', 'We Two']\n"
     ]
    }
   ],
   "source": [
    "movies = [\n",
    "{\n",
    "\"name\": \"Usual Suspects\", \n",
    "\"imdb\": 7.0,\n",
    "\"category\": \"Thriller\"\n",
    "},\n",
    "{\n",
    "\"name\": \"Hitman\",\n",
    "\"imdb\": 6.3,\n",
    "\"category\": \"Action\"\n",
    "},\n",
    "{\n",
    "\"name\": \"Dark Knight\",\n",
    "\"imdb\": 9.0,\n",
    "\"category\": \"Adventure\"\n",
    "},\n",
    "{\n",
    "\"name\": \"The Help\",\n",
    "\"imdb\": 8.0,\n",
    "\"category\": \"Drama\"\n",
    "},\n",
    "{\n",
    "\"name\": \"The Choice\",\n",
    "\"imdb\": 6.2,\n",
    "\"category\": \"Romance\"\n",
    "},\n",
    "{\n",
    "\"name\": \"Colonia\",\n",
    "\"imdb\": 7.4,\n",
    "\"category\": \"Romance\"\n",
    "},\n",
    "{\n",
    "\"name\": \"Love\",\n",
    "\"imdb\": 6.0,\n",
    "\"category\": \"Romance\"\n",
    "},\n",
    "{\n",
    "\"name\": \"Bride Wars\",\n",
    "\"imdb\": 5.4,\n",
    "\"category\": \"Romance\"\n",
    "},\n",
    "{\n",
    "\"name\": \"AlphaJet\",\n",
    "\"imdb\": 3.2,\n",
    "\"category\": \"War\"\n",
    "},\n",
    "{\n",
    "\"name\": \"Ringing Crime\",\n",
    "\"imdb\": 4.0,\n",
    "\"category\": \"Crime\"\n",
    "},\n",
    "{\n",
    "\"name\": \"Joking muck\",\n",
    "\"imdb\": 7.2,\n",
    "\"category\": \"Comedy\"\n",
    "},\n",
    "{\n",
    "\"name\": \"What is the name\",\n",
    "\"imdb\": 9.2,\n",
    "\"category\": \"Suspense\"\n",
    "},\n",
    "{\n",
    "\"name\": \"Detective\",\n",
    "\"imdb\": 7.0,\n",
    "\"category\": \"Suspense\"\n",
    "},\n",
    "{\n",
    "\"name\": \"Exam\",\n",
    "\"imdb\": 4.2,\n",
    "\"category\": \"Thriller\"\n",
    "},\n",
    "{\n",
    "\"name\": \"We Two\",\n",
    "\"imdb\": 7.2,\n",
    "\"category\": \"Romance\"\n",
    "}\n",
    "]\n",
    "\n",
    "def goodMovies():\n",
    "    sublist = [x[\"name\"] for x in movies if x[\"imdb\"]>5.5]\n",
    "    print(sublist)\n",
    "\n",
    "goodMovies()"
   ]
  },
  {
   "cell_type": "code",
   "execution_count": 98,
   "id": "cdc8055c-c51c-41c3-85ee-92b5a024ef2c",
   "metadata": {},
   "outputs": [
    {
     "name": "stdin",
     "output_type": "stream",
     "text": [
      " Romance\n"
     ]
    },
    {
     "name": "stdout",
     "output_type": "stream",
     "text": [
      "['The Choice', 'Colonia', 'Love', 'Bride Wars', 'We Two']\n"
     ]
    }
   ],
   "source": [
    "movies = [\n",
    "{\n",
    "\"name\": \"Usual Suspects\", \n",
    "\"imdb\": 7.0,\n",
    "\"category\": \"Thriller\"\n",
    "},\n",
    "{\n",
    "\"name\": \"Hitman\",\n",
    "\"imdb\": 6.3,\n",
    "\"category\": \"Action\"\n",
    "},\n",
    "{\n",
    "\"name\": \"Dark Knight\",\n",
    "\"imdb\": 9.0,\n",
    "\"category\": \"Adventure\"\n",
    "},\n",
    "{\n",
    "\"name\": \"The Help\",\n",
    "\"imdb\": 8.0,\n",
    "\"category\": \"Drama\"\n",
    "},\n",
    "{\n",
    "\"name\": \"The Choice\",\n",
    "\"imdb\": 6.2,\n",
    "\"category\": \"Romance\"\n",
    "},\n",
    "{\n",
    "\"name\": \"Colonia\",\n",
    "\"imdb\": 7.4,\n",
    "\"category\": \"Romance\"\n",
    "},\n",
    "{\n",
    "\"name\": \"Love\",\n",
    "\"imdb\": 6.0,\n",
    "\"category\": \"Romance\"\n",
    "},\n",
    "{\n",
    "\"name\": \"Bride Wars\",\n",
    "\"imdb\": 5.4,\n",
    "\"category\": \"Romance\"\n",
    "},\n",
    "{\n",
    "\"name\": \"AlphaJet\",\n",
    "\"imdb\": 3.2,\n",
    "\"category\": \"War\"\n",
    "},\n",
    "{\n",
    "\"name\": \"Ringing Crime\",\n",
    "\"imdb\": 4.0,\n",
    "\"category\": \"Crime\"\n",
    "},\n",
    "{\n",
    "\"name\": \"Joking muck\",\n",
    "\"imdb\": 7.2,\n",
    "\"category\": \"Comedy\"\n",
    "},\n",
    "{\n",
    "\"name\": \"What is the name\",\n",
    "\"imdb\": 9.2,\n",
    "\"category\": \"Suspense\"\n",
    "},\n",
    "{\n",
    "\"name\": \"Detective\",\n",
    "\"imdb\": 7.0,\n",
    "\"category\": \"Suspense\"\n",
    "},\n",
    "{\n",
    "\"name\": \"Exam\",\n",
    "\"imdb\": 4.2,\n",
    "\"category\": \"Thriller\"\n",
    "},\n",
    "{\n",
    "\"name\": \"We Two\",\n",
    "\"imdb\": 7.2,\n",
    "\"category\": \"Romance\"\n",
    "}\n",
    "]\n",
    "\n",
    "def category_search(category):\n",
    "    movieList = [x[\"name\"] for x in movies if x[\"category\"]==category]\n",
    "    print(movieList)\n",
    "\n",
    "x = input()\n",
    "category_search(x)"
   ]
  },
  {
   "cell_type": "code",
   "execution_count": 116,
   "id": "a86a55b7-341e-4d1f-8210-5cf9a27065ad",
   "metadata": {},
   "outputs": [
    {
     "name": "stdin",
     "output_type": "stream",
     "text": [
      "Enter amount of elements: 4\n",
      "Enter movie 1:  We Two\n",
      "Enter movie 2:  Exam\n",
      "Enter movie 3:  Detective\n",
      "Enter movie 4:  What is the name\n"
     ]
    },
    {
     "name": "stdout",
     "output_type": "stream",
     "text": [
      "6.9\n"
     ]
    }
   ],
   "source": [
    "movies = [\n",
    "{\n",
    "\"name\": \"Usual Suspects\", \n",
    "\"imdb\": 7.0,\n",
    "\"category\": \"Thriller\"\n",
    "},\n",
    "{\n",
    "\"name\": \"Hitman\",\n",
    "\"imdb\": 6.3,\n",
    "\"category\": \"Action\"\n",
    "},\n",
    "{\n",
    "\"name\": \"Dark Knight\",\n",
    "\"imdb\": 9.0,\n",
    "\"category\": \"Adventure\"\n",
    "},\n",
    "{\n",
    "\"name\": \"The Help\",\n",
    "\"imdb\": 8.0,\n",
    "\"category\": \"Drama\"\n",
    "},\n",
    "{\n",
    "\"name\": \"The Choice\",\n",
    "\"imdb\": 6.2,\n",
    "\"category\": \"Romance\"\n",
    "},\n",
    "{\n",
    "\"name\": \"Colonia\",\n",
    "\"imdb\": 7.4,\n",
    "\"category\": \"Romance\"\n",
    "},\n",
    "{\n",
    "\"name\": \"Love\",\n",
    "\"imdb\": 6.0,\n",
    "\"category\": \"Romance\"\n",
    "},\n",
    "{\n",
    "\"name\": \"Bride Wars\",\n",
    "\"imdb\": 5.4,\n",
    "\"category\": \"Romance\"\n",
    "},\n",
    "{\n",
    "\"name\": \"AlphaJet\",\n",
    "\"imdb\": 3.2,\n",
    "\"category\": \"War\"\n",
    "},\n",
    "{\n",
    "\"name\": \"Ringing Crime\",\n",
    "\"imdb\": 4.0,\n",
    "\"category\": \"Crime\"\n",
    "},\n",
    "{\n",
    "\"name\": \"Joking muck\",\n",
    "\"imdb\": 7.2,\n",
    "\"category\": \"Comedy\"\n",
    "},\n",
    "{\n",
    "\"name\": \"What is the name\",\n",
    "\"imdb\": 9.2,\n",
    "\"category\": \"Suspense\"\n",
    "},\n",
    "{\n",
    "\"name\": \"Detective\",\n",
    "\"imdb\": 7.0,\n",
    "\"category\": \"Suspense\"\n",
    "},\n",
    "{\n",
    "\"name\": \"Exam\",\n",
    "\"imdb\": 4.2,\n",
    "\"category\": \"Thriller\"\n",
    "},\n",
    "{\n",
    "\"name\": \"We Two\",\n",
    "\"imdb\": 7.2,\n",
    "\"category\": \"Romance\"\n",
    "}\n",
    "]\n",
    "\n",
    "\n",
    "def average_score(movie_list):\n",
    "    rating = 0\n",
    "    for x in movie_list:\n",
    "        for y in movies:\n",
    "            if y[\"name\"] == x:\n",
    "                rating += y[\"imdb\"]\n",
    "    print(\"{:.1f}\".format(rating/len(movie_list)))\n",
    "            \n",
    "n = int(input(\"Enter amount of elements:\"))\n",
    "a = [input(f\"Enter movie {i+1}: \") for i in range(n)]\n",
    "average_score(a)\n"
   ]
  },
  {
   "cell_type": "code",
   "execution_count": 124,
   "id": "7533cab4-de22-4c20-b8ad-e2bc74f69a76",
   "metadata": {},
   "outputs": [
    {
     "name": "stdin",
     "output_type": "stream",
     "text": [
      " Suspense\n"
     ]
    },
    {
     "name": "stdout",
     "output_type": "stream",
     "text": [
      "8.1\n"
     ]
    }
   ],
   "source": [
    "movies = [\n",
    "{\n",
    "\"name\": \"Usual Suspects\", \n",
    "\"imdb\": 7.0,\n",
    "\"category\": \"Thriller\"\n",
    "},\n",
    "{\n",
    "\"name\": \"Hitman\",\n",
    "\"imdb\": 6.3,\n",
    "\"category\": \"Action\"\n",
    "},\n",
    "{\n",
    "\"name\": \"Dark Knight\",\n",
    "\"imdb\": 9.0,\n",
    "\"category\": \"Adventure\"\n",
    "},\n",
    "{\n",
    "\"name\": \"The Help\",\n",
    "\"imdb\": 8.0,\n",
    "\"category\": \"Drama\"\n",
    "},\n",
    "{\n",
    "\"name\": \"The Choice\",\n",
    "\"imdb\": 6.2,\n",
    "\"category\": \"Romance\"\n",
    "},\n",
    "{\n",
    "\"name\": \"Colonia\",\n",
    "\"imdb\": 7.4,\n",
    "\"category\": \"Romance\"\n",
    "},\n",
    "{\n",
    "\"name\": \"Love\",\n",
    "\"imdb\": 6.0,\n",
    "\"category\": \"Romance\"\n",
    "},\n",
    "{\n",
    "\"name\": \"Bride Wars\",\n",
    "\"imdb\": 5.4,\n",
    "\"category\": \"Romance\"\n",
    "},\n",
    "{\n",
    "\"name\": \"AlphaJet\",\n",
    "\"imdb\": 3.2,\n",
    "\"category\": \"War\"\n",
    "},\n",
    "{\n",
    "\"name\": \"Ringing Crime\",\n",
    "\"imdb\": 4.0,\n",
    "\"category\": \"Crime\"\n",
    "},\n",
    "{\n",
    "\"name\": \"Joking muck\",\n",
    "\"imdb\": 7.2,\n",
    "\"category\": \"Comedy\"\n",
    "},\n",
    "{\n",
    "\"name\": \"What is the name\",\n",
    "\"imdb\": 9.2,\n",
    "\"category\": \"Suspense\"\n",
    "},\n",
    "{\n",
    "\"name\": \"Detective\",\n",
    "\"imdb\": 7.0,\n",
    "\"category\": \"Suspense\"\n",
    "},\n",
    "{\n",
    "\"name\": \"Exam\",\n",
    "\"imdb\": 4.2,\n",
    "\"category\": \"Thriller\"\n",
    "},\n",
    "{\n",
    "\"name\": \"We Two\",\n",
    "\"imdb\": 7.2,\n",
    "\"category\": \"Romance\"\n",
    "}\n",
    "]\n",
    "\n",
    "def average_score(category):\n",
    "    rating, movie_count = 0, 0\n",
    "    for x in movies:\n",
    "        if x[\"category\"] == category:\n",
    "            movie_count +=1\n",
    "            rating += x[\"imdb\"]\n",
    "    print(\"{:.1f}\".format(rating/movie_count))\n",
    "            \n",
    "a = input()\n",
    "average_score(a)"
   ]
  },
  {
   "cell_type": "markdown",
   "id": "1f8ee62e-e94c-4b3a-940a-71f247fbae30",
   "metadata": {},
   "source": [
    "Classes"
   ]
  },
  {
   "cell_type": "code",
   "execution_count": 133,
   "id": "9a4be1ab-5c48-4d45-b649-5d3e63cd8185",
   "metadata": {},
   "outputs": [
    {
     "name": "stdin",
     "output_type": "stream",
     "text": [
      "Enter a string:  i want to go to sleep\n"
     ]
    },
    {
     "name": "stdout",
     "output_type": "stream",
     "text": [
      "I WANT TO GO TO SLEEP\n"
     ]
    }
   ],
   "source": [
    "\n",
    "class StringActions:\n",
    "    def __init__(self):\n",
    "        self.string = \"\"\n",
    "\n",
    "    def get_string(self):\n",
    "        self.string = input(\"Enter a string: \")\n",
    "\n",
    "    def print_string(self):\n",
    "        print(self.string.upper())\n",
    "\n",
    "obj = StringActions()\n",
    "obj.get_string()\n",
    "obj.print_string()"
   ]
  },
  {
   "cell_type": "code",
   "execution_count": 137,
   "id": "0cd30975-977d-485c-966e-eadbfeef97f6",
   "metadata": {},
   "outputs": [
    {
     "name": "stdout",
     "output_type": "stream",
     "text": [
      "0\n",
      "25\n"
     ]
    }
   ],
   "source": [
    "class Shape:\n",
    "    def __init__(self):\n",
    "        pass\n",
    "\n",
    "    def area(self):\n",
    "        return 0\n",
    "\n",
    "class Square(Shape):\n",
    "    def __init__(self, length):\n",
    "        super().__init__()\n",
    "        self.length = length\n",
    "\n",
    "    def area(self):\n",
    "        return self.length * self.length\n",
    "        \n",
    "shape = Shape()\n",
    "print(shape.area())\n",
    "\n",
    "square = Square(9)\n",
    "print(square.area())\n"
   ]
  },
  {
   "cell_type": "code",
   "execution_count": 141,
   "id": "a5ab5ec0-69fb-44bf-be91-8b1e1ebd995b",
   "metadata": {},
   "outputs": [
    {
     "name": "stdout",
     "output_type": "stream",
     "text": [
      "0\n",
      "16\n",
      "16\n"
     ]
    }
   ],
   "source": [
    "class Shape:\n",
    "    def __init__(self):\n",
    "        pass\n",
    "\n",
    "    def area(self):\n",
    "        return 0\n",
    "\n",
    "class Square(Shape):\n",
    "    def __init__(self, length):\n",
    "        super().__init__()\n",
    "        self.length = length\n",
    "\n",
    "    def area(self):\n",
    "        return self.length * self.length\n",
    "\n",
    "class Rectangle(Shape):\n",
    "    def __init__(self, length, width):\n",
    "        super().__init__()\n",
    "        self.length = length\n",
    "        self.width = width\n",
    "\n",
    "    def area(self):\n",
    "        return self.length * self.width\n",
    "\n",
    "shape = Shape()\n",
    "print(shape.area())\n",
    "\n",
    "square = Square(4)\n",
    "print(square.area())\n",
    "\n",
    "rectangle = Rectangle(2, 8)\n",
    "print(rectangle.area())\n"
   ]
  },
  {
   "cell_type": "code",
   "execution_count": 145,
   "id": "4ef329b3-0340-45e8-849c-a19e0e249dc5",
   "metadata": {},
   "outputs": [
    {
     "name": "stdout",
     "output_type": "stream",
     "text": [
      "0\n",
      "16\n",
      "27\n",
      "Point(5, 9)\n",
      "Point(2, 3)\n",
      "Distance between points: 6.708203932499369\n"
     ]
    }
   ],
   "source": [
    "import math\n",
    "\n",
    "class Shape:\n",
    "    def __init__(self):\n",
    "        pass\n",
    "\n",
    "    def area(self):\n",
    "        return 0\n",
    "\n",
    "class Square(Shape):\n",
    "    def __init__(self, length):\n",
    "        super().__init__()\n",
    "        self.length = length\n",
    "\n",
    "    def area(self):\n",
    "        return self.length * self.length\n",
    "\n",
    "class Rectangle(Shape):\n",
    "    def __init__(self, length, width):\n",
    "        super().__init__()\n",
    "        self.length = length\n",
    "        self.width = width\n",
    "\n",
    "    def area(self):\n",
    "        return self.length * self.width\n",
    "\n",
    "class Point:\n",
    "    def __init__(self, x, y):\n",
    "        self.x = x\n",
    "        self.y = y\n",
    "\n",
    "    def show(self):\n",
    "        print(f\"Point({self.x}, {self.y})\")\n",
    "\n",
    "    def move(self, x, y):\n",
    "        self.x = x\n",
    "        self.y = y\n",
    "\n",
    "    def dist(self, other):\n",
    "        return math.sqrt((self.x - other.x) ** 2 + (self.y - other.y) ** 2)\n",
    "\n",
    "shape = Shape()\n",
    "print(shape.area())\n",
    "\n",
    "square = Square(4)\n",
    "print(square.area())\n",
    "\n",
    "rectangle = Rectangle(3, 9)\n",
    "print(rectangle.area())\n",
    "\n",
    "point1 = Point(5, 9)\n",
    "point2 = Point(2, 3)\n",
    "\n",
    "point1.show()\n",
    "point2.show()\n",
    "\n",
    "print(f\"Distance between points: {point1.dist(point2)}\")\n"
   ]
  },
  {
   "cell_type": "code",
   "execution_count": 147,
   "id": "c4eaa7fd-b039-455d-a1cd-7cbfeab558a7",
   "metadata": {},
   "outputs": [
    {
     "name": "stdout",
     "output_type": "stream",
     "text": [
      "Deposited $700. New balance: $1700\n",
      "Withdrew $100. New balance: $1600\n",
      "Insufficient funds\n",
      "Deposit amount must be positive.\n",
      "Withdrawal amount must be positive.\n"
     ]
    }
   ],
   "source": [
    "class Account:\n",
    "    def __init__(self, owner, balance=0):\n",
    "        self.owner = owner\n",
    "        self.balance = balance\n",
    "    \n",
    "    def deposit(self, amount):\n",
    "        if amount > 0:\n",
    "            self.balance += amount\n",
    "            print(f\"Deposited ${amount}. New balance: ${self.balance}\")\n",
    "        else:\n",
    "            print(\"Deposit amount must be positive.\")\n",
    "    \n",
    "    def withdraw(self, amount):\n",
    "        if amount > 0:\n",
    "            if amount <= self.balance:\n",
    "                self.balance -= amount\n",
    "                print(f\"Withdrew ${amount}. New balance: ${self.balance}\")\n",
    "            else:\n",
    "                print(\"Insufficient funds\")\n",
    "        else:\n",
    "            print(\"Withdrawal amount must be positive.\")\n",
    "\n",
    "account = Account(\"Lera\", 1000)\n",
    "\n",
    "account.deposit(700)\n",
    "account.withdraw(100)\n",
    "account.withdraw(2000)\n",
    "account.deposit(-500)\n",
    "account.withdraw(-200) \n"
   ]
  },
  {
   "cell_type": "code",
   "execution_count": 149,
   "id": "e6463e50-41a6-4551-97a1-7fe198918c14",
   "metadata": {},
   "outputs": [
    {
     "name": "stdin",
     "output_type": "stream",
     "text": [
      " 1 2 3 4 5 6 7 8 9 10 11 12 13 14 15 16 17 18 19 20 22\n"
     ]
    },
    {
     "name": "stdout",
     "output_type": "stream",
     "text": [
      "[2, 3, 5, 7, 11, 13, 17, 19]\n"
     ]
    }
   ],
   "source": [
    "class Prime:\n",
    "    def __init__(self, numbers):\n",
    "        self.numbers = numbers\n",
    "    \n",
    "    def is_prime(self, n):\n",
    "        return n > 1 and all(n % i != 0 for i in range(2, int(n**0.5) + 1))\n",
    "    \n",
    "    def filter_primes(self):\n",
    "        return list(filter(lambda x: self.is_prime(x), self.numbers))\n",
    "\n",
    "numbers = list(map(int, input().split()))\n",
    "prime_filter = Prime(numbers)\n",
    "prime_numbers = prime_filter.filter_primes()\n",
    "print(prime_numbers)\n"
   ]
  },
  {
   "cell_type": "code",
   "execution_count": null,
   "id": "767362c5-d242-4daf-a6b8-a045f269d5a1",
   "metadata": {},
   "outputs": [],
   "source": []
  }
 ],
 "metadata": {
  "kernelspec": {
   "display_name": "Python [conda env:base] *",
   "language": "python",
   "name": "conda-base-py"
  },
  "language_info": {
   "codemirror_mode": {
    "name": "ipython",
    "version": 3
   },
   "file_extension": ".py",
   "mimetype": "text/x-python",
   "name": "python",
   "nbconvert_exporter": "python",
   "pygments_lexer": "ipython3",
   "version": "3.12.7"
  }
 },
 "nbformat": 4,
 "nbformat_minor": 5
}
